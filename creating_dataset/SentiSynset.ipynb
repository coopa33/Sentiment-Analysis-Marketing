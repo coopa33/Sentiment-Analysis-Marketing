{
 "cells": [
  {
   "cell_type": "markdown",
   "id": "d9b4ba10-e1f3-45db-a463-2e3a61c0f7c5",
   "metadata": {},
   "source": [
    "### Tokenization\n",
    "We're going to conduct sentiment analysis using Bag of Words (BOW). This includes tokenizing text into words. There are two ways of tokinizing words:\n",
    "\n",
    "- Stemming\n",
    "- Lemmatization\n",
    "\n",
    "Stemming is part of text processing, namely reducing a word into its base form. The idea is that every word can be seen as a morphological variant of one base word. This approach processes words according to morphology and not to semantics (as each word is considered independent of it's neighbouring words or enclosing sentence for example). (https://www.ibm.com/think/topics/stemming-lemmatization)\n",
    "\n",
    "Stemming reduces words to word bases by comparing a word to a pre-defined list of common suffixes. So this process simply consists of removing recognized suffixes according to a rule, which means it is heuristics based. This can pose problems, as it occasionally presents incorrect base words (f.e. nothing to noth, as -ing suffix is removed)\n",
    "\n",
    "Lemmatization is more in line with reducing morphological variants to a dictionary base form. It does so by \"Part of Speech\" (POS) tagging. This assigns each word its syntactic function in the sentence, which allows the procedure to correctly identify a dictionary base form. For example, the word \"nothing\" remains unaltered in lemmatization, because its syntactic function as a noun. "
   ]
  },
  {
   "cell_type": "markdown",
   "id": "d2dcf13c-6e56-4fa0-9e0e-4d9522daa4dc",
   "metadata": {},
   "source": [
    "# PennTreebank to Wordnet POS\n",
    "\n",
    "We will be using PennTreebank tokenization. A Treebank tokenizer is simply a tokenizer that contains rules for English contractions and hence allows us to tokenize based on the syntactic function of a word. \n",
    "\n",
    "Note that the POS tags of PennTreebank are different from the Wordnet tags, hence we have to convert them to Wordnet tags within the pipeline. "
   ]
  },
  {
   "cell_type": "code",
   "execution_count": 47,
   "id": "12a667f3-f649-440d-8ea2-0dabc98e9902",
   "metadata": {},
   "outputs": [
    {
     "name": "stderr",
     "output_type": "stream",
     "text": [
      "[nltk_data] Downloading package averaged_perceptron_tagger_eng to\n",
      "[nltk_data]     /home/dan/nltk_data...\n",
      "[nltk_data]   Package averaged_perceptron_tagger_eng is already up-to-\n",
      "[nltk_data]       date!\n",
      "[nltk_data] Downloading package sentiwordnet to /home/dan/nltk_data...\n",
      "[nltk_data]   Unzipping corpora/sentiwordnet.zip.\n"
     ]
    },
    {
     "data": {
      "text/plain": [
       "True"
      ]
     },
     "execution_count": 47,
     "metadata": {},
     "output_type": "execute_result"
    }
   ],
   "source": [
    "from nltk.tokenize import TreebankWordTokenizer\n",
    "from nltk.corpus import wordnet as wn\n",
    "from nltk import sent_tokenize, pos_tag\n",
    "from nltk.stem import WordNetLemmatizer\n",
    "from nltk.corpus import sentiwordnet as swn\n",
    "import nltk\n",
    "import pandas as pd\n",
    "import numpy as np\n",
    "import seaborn as sns\n",
    "nltk.download('averaged_perceptron_tagger_eng')\n",
    "nltk.download(\"sentiwordnet\")"
   ]
  },
  {
   "cell_type": "code",
   "execution_count": 3,
   "id": "78f65a42-9c58-4e19-ac4b-d6537a48664b",
   "metadata": {},
   "outputs": [],
   "source": [
    "df_small = pd.read_csv(\"../data/small_corpus.csv\")\n"
   ]
  },
  {
   "cell_type": "code",
   "execution_count": 4,
   "id": "a08c9cf2-3961-4ad2-a3f4-51a1ab19a2af",
   "metadata": {},
   "outputs": [
    {
     "data": {
      "text/html": [
       "<div>\n",
       "<style scoped>\n",
       "    .dataframe tbody tr th:only-of-type {\n",
       "        vertical-align: middle;\n",
       "    }\n",
       "\n",
       "    .dataframe tbody tr th {\n",
       "        vertical-align: top;\n",
       "    }\n",
       "\n",
       "    .dataframe thead th {\n",
       "        text-align: right;\n",
       "    }\n",
       "</style>\n",
       "<table border=\"1\" class=\"dataframe\">\n",
       "  <thead>\n",
       "    <tr style=\"text-align: right;\">\n",
       "      <th></th>\n",
       "      <th>overall</th>\n",
       "      <th>verified</th>\n",
       "      <th>reviewTime</th>\n",
       "      <th>reviewerID</th>\n",
       "      <th>asin</th>\n",
       "      <th>reviewerName</th>\n",
       "      <th>reviewText</th>\n",
       "      <th>summary</th>\n",
       "      <th>unixReviewTime</th>\n",
       "      <th>vote</th>\n",
       "      <th>style</th>\n",
       "      <th>image</th>\n",
       "    </tr>\n",
       "  </thead>\n",
       "  <tbody>\n",
       "    <tr>\n",
       "      <th>0</th>\n",
       "      <td>1.0</td>\n",
       "      <td>False</td>\n",
       "      <td>12 25, 2003</td>\n",
       "      <td>A3NN4RTUN0LHBN</td>\n",
       "      <td>B00009WAVB</td>\n",
       "      <td>George Rownd</td>\n",
       "      <td>This game is awful. Very bad graphics by a fir...</td>\n",
       "      <td>BAD</td>\n",
       "      <td>1072310400</td>\n",
       "      <td>NaN</td>\n",
       "      <td>{'Format:': ' Video Game'}</td>\n",
       "      <td>NaN</td>\n",
       "    </tr>\n",
       "    <tr>\n",
       "      <th>1</th>\n",
       "      <td>1.0</td>\n",
       "      <td>True</td>\n",
       "      <td>10 14, 2015</td>\n",
       "      <td>A1DAH6X9PGVH7D</td>\n",
       "      <td>B00XKCC00I</td>\n",
       "      <td>Paht</td>\n",
       "      <td>It would be really cool if the frame rate didn...</td>\n",
       "      <td>Terrible.</td>\n",
       "      <td>1444780800</td>\n",
       "      <td>NaN</td>\n",
       "      <td>{'Platform:': ' Xbox One'}</td>\n",
       "      <td>NaN</td>\n",
       "    </tr>\n",
       "    <tr>\n",
       "      <th>2</th>\n",
       "      <td>1.0</td>\n",
       "      <td>False</td>\n",
       "      <td>11 22, 2015</td>\n",
       "      <td>A2ZWI1773NNY12</td>\n",
       "      <td>B00W8FYF56</td>\n",
       "      <td>Pamela</td>\n",
       "      <td>got this for my grandson as a pre-order along ...</td>\n",
       "      <td>actually disappointed with both</td>\n",
       "      <td>1448150400</td>\n",
       "      <td>3</td>\n",
       "      <td>{'Format:': ' Video Game'}</td>\n",
       "      <td>NaN</td>\n",
       "    </tr>\n",
       "    <tr>\n",
       "      <th>3</th>\n",
       "      <td>1.0</td>\n",
       "      <td>False</td>\n",
       "      <td>03 7, 2017</td>\n",
       "      <td>A1D7U5NSLRAU8E</td>\n",
       "      <td>B00BQMGW4Y</td>\n",
       "      <td>Kaxey</td>\n",
       "      <td>Fake, ingenuine product. The picture shoes an ...</td>\n",
       "      <td>a shorter cable (OEMs were ten feet) and crapp...</td>\n",
       "      <td>1488844800</td>\n",
       "      <td>NaN</td>\n",
       "      <td>NaN</td>\n",
       "      <td>NaN</td>\n",
       "    </tr>\n",
       "    <tr>\n",
       "      <th>4</th>\n",
       "      <td>1.0</td>\n",
       "      <td>False</td>\n",
       "      <td>06 22, 2008</td>\n",
       "      <td>A2KBD1UW414PH2</td>\n",
       "      <td>B000V1OUTU</td>\n",
       "      <td>Greg</td>\n",
       "      <td>I bought the collector's edition and if you do...</td>\n",
       "      <td>Sad, So much promise...</td>\n",
       "      <td>1214092800</td>\n",
       "      <td>4</td>\n",
       "      <td>{'Edition:': \" Collector's\"}</td>\n",
       "      <td>NaN</td>\n",
       "    </tr>\n",
       "  </tbody>\n",
       "</table>\n",
       "</div>"
      ],
      "text/plain": [
       "   overall  verified   reviewTime      reviewerID        asin  reviewerName  \\\n",
       "0      1.0     False  12 25, 2003  A3NN4RTUN0LHBN  B00009WAVB  George Rownd   \n",
       "1      1.0      True  10 14, 2015  A1DAH6X9PGVH7D  B00XKCC00I          Paht   \n",
       "2      1.0     False  11 22, 2015  A2ZWI1773NNY12  B00W8FYF56        Pamela   \n",
       "3      1.0     False   03 7, 2017  A1D7U5NSLRAU8E  B00BQMGW4Y         Kaxey   \n",
       "4      1.0     False  06 22, 2008  A2KBD1UW414PH2  B000V1OUTU          Greg   \n",
       "\n",
       "                                          reviewText  \\\n",
       "0  This game is awful. Very bad graphics by a fir...   \n",
       "1  It would be really cool if the frame rate didn...   \n",
       "2  got this for my grandson as a pre-order along ...   \n",
       "3  Fake, ingenuine product. The picture shoes an ...   \n",
       "4  I bought the collector's edition and if you do...   \n",
       "\n",
       "                                             summary  unixReviewTime vote  \\\n",
       "0                                                BAD      1072310400  NaN   \n",
       "1                                          Terrible.      1444780800  NaN   \n",
       "2                    actually disappointed with both      1448150400    3   \n",
       "3  a shorter cable (OEMs were ten feet) and crapp...      1488844800  NaN   \n",
       "4                            Sad, So much promise...      1214092800    4   \n",
       "\n",
       "                          style image  \n",
       "0    {'Format:': ' Video Game'}   NaN  \n",
       "1    {'Platform:': ' Xbox One'}   NaN  \n",
       "2    {'Format:': ' Video Game'}   NaN  \n",
       "3                           NaN   NaN  \n",
       "4  {'Edition:': \" Collector's\"}   NaN  "
      ]
     },
     "execution_count": 4,
     "metadata": {},
     "output_type": "execute_result"
    }
   ],
   "source": [
    "df_small.head()"
   ]
  },
  {
   "cell_type": "code",
   "execution_count": 5,
   "id": "cfb404a4-1718-4bf2-92b2-1f57fd5359ea",
   "metadata": {},
   "outputs": [
    {
     "name": "stderr",
     "output_type": "stream",
     "text": [
      "[nltk_data] Downloading package wordnet to /home/dan/nltk_data...\n",
      "[nltk_data]   Package wordnet is already up-to-date!\n"
     ]
    }
   ],
   "source": [
    "# Function to convert PennTreebank tags to Wordnet tags\n",
    "nltk.download(\"wordnet\")\n",
    "\n",
    "def penn_to_wn(tag):\n",
    "    \"\"\"\n",
    "    Convert PennTreebank tags to simpler Wordnet tags\n",
    "    \"\"\"\n",
    "    if tag.startswith(\"J\"): # Adjectives start with J in PennTreebank tags\n",
    "        return wn.ADJ\n",
    "    elif tag.startswith(\"N\"):\n",
    "        return wn.NOUN\n",
    "    elif tag.startswith(\"R\"):\n",
    "        return wn.ADV\n",
    "    elif tag.startswith(\"V\"):\n",
    "        return wn.VERB\n",
    "\n",
    "    return None"
   ]
  },
  {
   "cell_type": "code",
   "execution_count": 6,
   "id": "6708178a-c2e6-4d8a-8787-c87afc7ace08",
   "metadata": {},
   "outputs": [
    {
     "data": {
      "text/plain": [
       "'a'"
      ]
     },
     "execution_count": 6,
     "metadata": {},
     "output_type": "execute_result"
    }
   ],
   "source": [
    "penn_to_wn(\"JJR\") # JJR = Adjective, comparative. In PennTreebank POS"
   ]
  },
  {
   "cell_type": "code",
   "execution_count": 7,
   "id": "44d08c6c-55cc-4502-a25a-282da723e488",
   "metadata": {},
   "outputs": [],
   "source": [
    "from nltk import sent_tokenize, pos_tag"
   ]
  },
  {
   "cell_type": "code",
   "execution_count": 8,
   "id": "707c75c8-cca4-4150-abee-ff2fb3e52e83",
   "metadata": {},
   "outputs": [
    {
     "data": {
      "text/plain": [
       "'Very bad graphics by a first person shooter.'"
      ]
     },
     "execution_count": 8,
     "metadata": {},
     "output_type": "execute_result"
    }
   ],
   "source": [
    "# Test sentence and word tokenizer\n",
    "review_tokens = df_small[\"reviewText\"].apply(str)\n",
    "review_tokens = review_tokens.apply(sent_tokenize)\n",
    "sentence_tokens = review_tokens.loc[0]\n",
    "sentence_token = sentence_tokens[1]\n",
    "sentence_token"
   ]
  },
  {
   "cell_type": "code",
   "execution_count": 9,
   "id": "00aee56d-724e-47e0-9a3d-49da3dd313cb",
   "metadata": {},
   "outputs": [
    {
     "data": {
      "text/plain": [
       "['Very', 'bad', 'graphics', 'by', 'a', 'first', 'person', 'shooter', '.']"
      ]
     },
     "execution_count": 9,
     "metadata": {},
     "output_type": "execute_result"
    }
   ],
   "source": [
    "word_tokens = TreebankWordTokenizer().tokenize(sentence_token)\n",
    "word_tokens"
   ]
  },
  {
   "cell_type": "code",
   "execution_count": 10,
   "id": "972262c4-2df1-4641-b475-d5c290143f05",
   "metadata": {},
   "outputs": [
    {
     "name": "stdout",
     "output_type": "stream",
     "text": [
      "[('Very', 'RB'), ('bad', 'JJ'), ('graphics', 'NNS'), ('by', 'IN'), ('a', 'DT'), ('first', 'JJ'), ('person', 'NN'), ('shooter', 'NN'), ('.', '.')]\n"
     ]
    }
   ],
   "source": [
    "tags = pos_tag(word_tokens)\n",
    "print(tags)"
   ]
  },
  {
   "cell_type": "code",
   "execution_count": 11,
   "id": "590d9511-117f-441f-9151-81fad29644ac",
   "metadata": {},
   "outputs": [
    {
     "name": "stdout",
     "output_type": "stream",
     "text": [
      "Very\n",
      "bad\n",
      "graphic\n",
      "first\n",
      "person\n",
      "shooter\n"
     ]
    }
   ],
   "source": [
    "for word, tag in tags:\n",
    "    tag = penn_to_wn(tag)\n",
    "    if not tag:\n",
    "        continue\n",
    "    lemma = WordNetLemmatizer().lemmatize(word, pos=tag)\n",
    "    print(lemma)\n",
    "    "
   ]
  },
  {
   "cell_type": "code",
   "execution_count": 29,
   "id": "f478925d-f3d4-4438-b050-a926331b4de5",
   "metadata": {},
   "outputs": [],
   "source": [
    "            \n",
    "            \n",
    "\n",
    "def lemmatize_corpus(text):\n",
    "    lemmas = []\n",
    "    sentence_tokens = sent_tokenize(text)\n",
    "    #print(sentence_tokens)\n",
    "    for sentence_token in sentence_tokens:\n",
    "        # Tokenize sentence into words\n",
    "        word_tokens = TreebankWordTokenizer().tokenize(sentence_token)\n",
    "\n",
    "        # Make POS tag tuples\n",
    "        wn_tags = pos_tag(word_tokens)\n",
    "        \n",
    "        for token, tag in wn_tags:\n",
    "            token = token.lower()\n",
    "            # Convert any applicable PennTreebank tags to Wordnet tags. If not applicable\n",
    "            # for lemmatization (not noun, verb, adjective or adverb), returns None, and therefore\n",
    "            # don't use word \n",
    "            wn_tag = penn_to_wn(tag)\n",
    "            if not wn_tag:\n",
    "                continue\n",
    "            lemma = WordNetLemmatizer().lemmatize(token, wn_tag)\n",
    "            lemmas.append((lemma, wn_tag))\n",
    "\n",
    "    return lemmas\n",
    "    \n",
    "            \n",
    "        \n",
    "        "
   ]
  },
  {
   "cell_type": "code",
   "execution_count": 30,
   "id": "44281736-5f79-4c16-9a3e-305f383455fb",
   "metadata": {},
   "outputs": [
    {
     "data": {
      "text/plain": [
       "[('have', 'v'),\n",
       " ('little', 'a'),\n",
       " ('lamb', 'n'),\n",
       " ('lamb', 'n'),\n",
       " ('be', 'v'),\n",
       " ('very', 'r'),\n",
       " ('young', 'a'),\n",
       " ('vulnerable', 'a')]"
      ]
     },
     "execution_count": 30,
     "metadata": {},
     "output_type": "execute_result"
    }
   ],
   "source": [
    "text = \"She had a little lamb. The lamb was very young and vulnerable!\"\n",
    "lemmatize_corpus(text)"
   ]
  },
  {
   "cell_type": "code",
   "execution_count": 31,
   "id": "3416b6a9-b1a4-46ad-a994-740da0370f60",
   "metadata": {},
   "outputs": [],
   "source": [
    "sample = df_small.head().copy(deep=True)\n",
    "sample[\"lemmatized\"] = sample[\"reviewText\"].apply(lemmatize_corpus)\n",
    "sample[\"tags\"] = sample[\"reviewText\"].apply(tokenize)\n"
   ]
  },
  {
   "cell_type": "code",
   "execution_count": 32,
   "id": "00b593c3-3353-4658-aeab-449ca7e3da09",
   "metadata": {},
   "outputs": [
    {
     "name": "stdout",
     "output_type": "stream",
     "text": [
      "It would be really cool if the frame rate didn't drop like crazy every time you throw a pass, catch a pass, cause a turnover, catch an INT, kickoff, call a play, try to get behind your blocks....the list can go on really but I'll leave you with this for now.\n",
      "Save your money until these EA hacks fix this crap (although they probably won't).\n",
      "[('be', 'v'), ('really', 'r'), ('cool', 'a'), ('frame', 'n'), ('rate', 'n'), ('do', 'v'), (\"n't\", 'r'), ('drop', 'v'), ('crazy', 'a'), ('time', 'n'), ('throw', 'v'), ('pas', 'n'), ('catch', 'v'), ('pas', 'n'), ('cause', 'v'), ('turnover', 'n'), ('catch', 'v'), ('int', 'n'), ('kickoff', 'n'), ('call', 'v'), ('play', 'n'), ('try', 'v'), ('get', 'v'), ('block', 'n'), ('.the', 'a'), ('list', 'n'), ('go', 'v'), ('really', 'r'), ('leave', 'v'), ('now', 'r'), ('save', 'v'), ('money', 'n'), ('ea', 'n'), ('hack', 'n'), ('fix', 'v'), ('crap', 'n'), ('probably', 'r'), (\"n't\", 'r')]\n"
     ]
    }
   ],
   "source": [
    "print(sample[\"reviewText\"][1])\n",
    "print(sample[\"lemmatized\"][1])"
   ]
  },
  {
   "cell_type": "code",
   "execution_count": 33,
   "id": "91c8cf3d-f30f-4cce-92ac-b9545aeee7b4",
   "metadata": {},
   "outputs": [
    {
     "data": {
      "text/html": [
       "<div>\n",
       "<style scoped>\n",
       "    .dataframe tbody tr th:only-of-type {\n",
       "        vertical-align: middle;\n",
       "    }\n",
       "\n",
       "    .dataframe tbody tr th {\n",
       "        vertical-align: top;\n",
       "    }\n",
       "\n",
       "    .dataframe thead th {\n",
       "        text-align: right;\n",
       "    }\n",
       "</style>\n",
       "<table border=\"1\" class=\"dataframe\">\n",
       "  <thead>\n",
       "    <tr style=\"text-align: right;\">\n",
       "      <th></th>\n",
       "      <th>overall</th>\n",
       "      <th>verified</th>\n",
       "      <th>reviewTime</th>\n",
       "      <th>reviewerID</th>\n",
       "      <th>asin</th>\n",
       "      <th>reviewerName</th>\n",
       "      <th>reviewText</th>\n",
       "      <th>summary</th>\n",
       "      <th>unixReviewTime</th>\n",
       "      <th>vote</th>\n",
       "      <th>style</th>\n",
       "      <th>image</th>\n",
       "      <th>lemmatized</th>\n",
       "      <th>tags</th>\n",
       "    </tr>\n",
       "  </thead>\n",
       "  <tbody>\n",
       "    <tr>\n",
       "      <th>0</th>\n",
       "      <td>1.0</td>\n",
       "      <td>False</td>\n",
       "      <td>12 25, 2003</td>\n",
       "      <td>A3NN4RTUN0LHBN</td>\n",
       "      <td>B00009WAVB</td>\n",
       "      <td>George Rownd</td>\n",
       "      <td>This game is awful. Very bad graphics by a fir...</td>\n",
       "      <td>BAD</td>\n",
       "      <td>1072310400</td>\n",
       "      <td>NaN</td>\n",
       "      <td>{'Format:': ' Video Game'}</td>\n",
       "      <td>NaN</td>\n",
       "      <td>[(game, n), (be, v), (awful, a), (very, r), (b...</td>\n",
       "      <td>[(game, n), (is, v), (awful, a), (Very, r), (b...</td>\n",
       "    </tr>\n",
       "    <tr>\n",
       "      <th>1</th>\n",
       "      <td>1.0</td>\n",
       "      <td>True</td>\n",
       "      <td>10 14, 2015</td>\n",
       "      <td>A1DAH6X9PGVH7D</td>\n",
       "      <td>B00XKCC00I</td>\n",
       "      <td>Paht</td>\n",
       "      <td>It would be really cool if the frame rate didn...</td>\n",
       "      <td>Terrible.</td>\n",
       "      <td>1444780800</td>\n",
       "      <td>NaN</td>\n",
       "      <td>{'Platform:': ' Xbox One'}</td>\n",
       "      <td>NaN</td>\n",
       "      <td>[(be, v), (really, r), (cool, a), (frame, n), ...</td>\n",
       "      <td>[(be, v), (really, r), (cool, a), (frame, n), ...</td>\n",
       "    </tr>\n",
       "    <tr>\n",
       "      <th>2</th>\n",
       "      <td>1.0</td>\n",
       "      <td>False</td>\n",
       "      <td>11 22, 2015</td>\n",
       "      <td>A2ZWI1773NNY12</td>\n",
       "      <td>B00W8FYF56</td>\n",
       "      <td>Pamela</td>\n",
       "      <td>got this for my grandson as a pre-order along ...</td>\n",
       "      <td>actually disappointed with both</td>\n",
       "      <td>1448150400</td>\n",
       "      <td>3</td>\n",
       "      <td>{'Format:': ' Video Game'}</td>\n",
       "      <td>NaN</td>\n",
       "      <td>[(get, v), (grandson, n), (pre-order, n), (han...</td>\n",
       "      <td>[(got, v), (grandson, n), (pre-order, n), (Han...</td>\n",
       "    </tr>\n",
       "    <tr>\n",
       "      <th>3</th>\n",
       "      <td>1.0</td>\n",
       "      <td>False</td>\n",
       "      <td>03 7, 2017</td>\n",
       "      <td>A1D7U5NSLRAU8E</td>\n",
       "      <td>B00BQMGW4Y</td>\n",
       "      <td>Kaxey</td>\n",
       "      <td>Fake, ingenuine product. The picture shoes an ...</td>\n",
       "      <td>a shorter cable (OEMs were ten feet) and crapp...</td>\n",
       "      <td>1488844800</td>\n",
       "      <td>NaN</td>\n",
       "      <td>NaN</td>\n",
       "      <td>NaN</td>\n",
       "      <td>[(fake, n), (ingenuine, a), (product, n), (pic...</td>\n",
       "      <td>[(Fake, n), (ingenuine, a), (product, n), (pic...</td>\n",
       "    </tr>\n",
       "    <tr>\n",
       "      <th>4</th>\n",
       "      <td>1.0</td>\n",
       "      <td>False</td>\n",
       "      <td>06 22, 2008</td>\n",
       "      <td>A2KBD1UW414PH2</td>\n",
       "      <td>B000V1OUTU</td>\n",
       "      <td>Greg</td>\n",
       "      <td>I bought the collector's edition and if you do...</td>\n",
       "      <td>Sad, So much promise...</td>\n",
       "      <td>1214092800</td>\n",
       "      <td>4</td>\n",
       "      <td>{'Edition:': \" Collector's\"}</td>\n",
       "      <td>NaN</td>\n",
       "      <td>[(buy, v), (collector, n), (edition, n), (do, ...</td>\n",
       "      <td>[(bought, v), (collector, n), (edition, n), (d...</td>\n",
       "    </tr>\n",
       "  </tbody>\n",
       "</table>\n",
       "</div>"
      ],
      "text/plain": [
       "   overall  verified   reviewTime      reviewerID        asin  reviewerName  \\\n",
       "0      1.0     False  12 25, 2003  A3NN4RTUN0LHBN  B00009WAVB  George Rownd   \n",
       "1      1.0      True  10 14, 2015  A1DAH6X9PGVH7D  B00XKCC00I          Paht   \n",
       "2      1.0     False  11 22, 2015  A2ZWI1773NNY12  B00W8FYF56        Pamela   \n",
       "3      1.0     False   03 7, 2017  A1D7U5NSLRAU8E  B00BQMGW4Y         Kaxey   \n",
       "4      1.0     False  06 22, 2008  A2KBD1UW414PH2  B000V1OUTU          Greg   \n",
       "\n",
       "                                          reviewText  \\\n",
       "0  This game is awful. Very bad graphics by a fir...   \n",
       "1  It would be really cool if the frame rate didn...   \n",
       "2  got this for my grandson as a pre-order along ...   \n",
       "3  Fake, ingenuine product. The picture shoes an ...   \n",
       "4  I bought the collector's edition and if you do...   \n",
       "\n",
       "                                             summary  unixReviewTime vote  \\\n",
       "0                                                BAD      1072310400  NaN   \n",
       "1                                          Terrible.      1444780800  NaN   \n",
       "2                    actually disappointed with both      1448150400    3   \n",
       "3  a shorter cable (OEMs were ten feet) and crapp...      1488844800  NaN   \n",
       "4                            Sad, So much promise...      1214092800    4   \n",
       "\n",
       "                          style image  \\\n",
       "0    {'Format:': ' Video Game'}   NaN   \n",
       "1    {'Platform:': ' Xbox One'}   NaN   \n",
       "2    {'Format:': ' Video Game'}   NaN   \n",
       "3                           NaN   NaN   \n",
       "4  {'Edition:': \" Collector's\"}   NaN   \n",
       "\n",
       "                                          lemmatized  \\\n",
       "0  [(game, n), (be, v), (awful, a), (very, r), (b...   \n",
       "1  [(be, v), (really, r), (cool, a), (frame, n), ...   \n",
       "2  [(get, v), (grandson, n), (pre-order, n), (han...   \n",
       "3  [(fake, n), (ingenuine, a), (product, n), (pic...   \n",
       "4  [(buy, v), (collector, n), (edition, n), (do, ...   \n",
       "\n",
       "                                                tags  \n",
       "0  [(game, n), (is, v), (awful, a), (Very, r), (b...  \n",
       "1  [(be, v), (really, r), (cool, a), (frame, n), ...  \n",
       "2  [(got, v), (grandson, n), (pre-order, n), (Han...  \n",
       "3  [(Fake, n), (ingenuine, a), (product, n), (pic...  \n",
       "4  [(bought, v), (collector, n), (edition, n), (d...  "
      ]
     },
     "execution_count": 33,
     "metadata": {},
     "output_type": "execute_result"
    }
   ],
   "source": [
    "sample.head()"
   ]
  },
  {
   "cell_type": "code",
   "execution_count": 50,
   "id": "6e5ac97a-bfd9-499a-ac79-00a52e1e1e3d",
   "metadata": {},
   "outputs": [],
   "source": [
    "# Test out SentiwordNet\n",
    "lemma = sample[\"lemmatized\"][1][1]\n",
    "synset = wn.synsets(lemma[0], pos=lemma[1])"
   ]
  },
  {
   "cell_type": "code",
   "execution_count": 51,
   "id": "8657849f-3544-4b90-8988-bfe0dc5b6523",
   "metadata": {},
   "outputs": [
    {
     "data": {
      "text/plain": [
       "[Synset('truly.r.01'),\n",
       " Synset('actually.r.01'),\n",
       " Synset('in_truth.r.01'),\n",
       " Synset('very.r.01')]"
      ]
     },
     "metadata": {},
     "output_type": "display_data"
    }
   ],
   "source": [
    "display(synset)"
   ]
  },
  {
   "cell_type": "markdown",
   "id": "872260c5-a7fa-4c07-a3c1-d727407667c6",
   "metadata": {},
   "source": [
    "It seems that the first synset is typically the most common sense of the word by some reference corpus (f.e. Brown Corpus)(OpenAI, 2023). \n",
    "\n",
    "Given that Bag of Words does not include contextual information, it is wise to use the most common synset"
   ]
  },
  {
   "cell_type": "code",
   "execution_count": 52,
   "id": "f71f53ef-4c93-4d4f-ad80-8e2ea6f0d96b",
   "metadata": {},
   "outputs": [],
   "source": [
    "synset = synset[0]"
   ]
  },
  {
   "cell_type": "code",
   "execution_count": 53,
   "id": "c4cbc2d0-e2b1-45de-84e2-19835ea766a0",
   "metadata": {},
   "outputs": [
    {
     "data": {
      "text/plain": [
       "Synset('truly.r.01')"
      ]
     },
     "metadata": {},
     "output_type": "display_data"
    },
    {
     "data": {
      "text/plain": [
       "'truly.r.01'"
      ]
     },
     "metadata": {},
     "output_type": "display_data"
    }
   ],
   "source": [
    "display(synset)\n",
    "\n",
    "# Name of synset object can be accessed by method\n",
    "display(synset.name())"
   ]
  },
  {
   "cell_type": "code",
   "execution_count": 54,
   "id": "22785da1-fa33-4ffd-9504-b03e93a3692c",
   "metadata": {},
   "outputs": [],
   "source": [
    "swn_synset = swn.senti_synset(synset.name())"
   ]
  },
  {
   "cell_type": "code",
   "execution_count": 55,
   "id": "75cd8347-e2d6-4bb2-ab3d-a5396b056a6e",
   "metadata": {},
   "outputs": [
    {
     "data": {
      "text/plain": [
       "SentiSynset('truly.r.01')"
      ]
     },
     "metadata": {},
     "output_type": "display_data"
    }
   ],
   "source": [
    "display(swn_synset)"
   ]
  },
  {
   "cell_type": "markdown",
   "id": "d2bc9193-3752-46d5-9e06-416b0c51d160",
   "metadata": {},
   "source": [
    "By evaluating positive and negative scores, we can see where along the PN-polarity the SentiSynset is located."
   ]
  },
  {
   "cell_type": "code",
   "execution_count": 57,
   "id": "a8f47abb-12dd-463b-a190-222b4e0db932",
   "metadata": {},
   "outputs": [
    {
     "data": {
      "text/plain": [
       "0.625"
      ]
     },
     "metadata": {},
     "output_type": "display_data"
    },
    {
     "data": {
      "text/plain": [
       "0.0"
      ]
     },
     "metadata": {},
     "output_type": "display_data"
    }
   ],
   "source": [
    "display(swn_synset.pos_score())\n",
    "display(swn_synset.neg_score())"
   ]
  },
  {
   "cell_type": "markdown",
   "id": "0595745f-6381-40e6-8818-93a1e67278a7",
   "metadata": {},
   "source": [
    "Consequently, by **subtracting the negative from the positive score**, we can see towards which polarity the SentiSynet is leaning. \n",
    "\n",
    "Note that there are three scores in SentiSynsets, **positive, negative, and objective**, and these scores **always sum up to one**. This means that the sentiment score (positive - negative) of a SentiSynset with high objectivity is necessarily limited. This should be a desireable characteristic, as we want words that are more neutral to be less informative than words that are less neutral.  "
   ]
  },
  {
   "cell_type": "code",
   "execution_count": 58,
   "id": "c87061e2-9682-4b20-b14f-99519fccd532",
   "metadata": {},
   "outputs": [
    {
     "data": {
      "text/plain": [
       "0.625"
      ]
     },
     "execution_count": 58,
     "metadata": {},
     "output_type": "execute_result"
    }
   ],
   "source": [
    "senti_score = swn_synset.pos_score() - swn_synset.neg_score()\n",
    "senti_score"
   ]
  },
  {
   "cell_type": "markdown",
   "id": "da083b44-82e0-4a70-99df-7c1c4dc38b36",
   "metadata": {},
   "source": [
    "### Complete Sentiment Scoring Function\n",
    "Now we can write one function that averages the sentiment score of a text. This function will also do lemmatization, so that we don't have to write any additional functions."
   ]
  },
  {
   "cell_type": "code",
   "execution_count": 97,
   "id": "a55a16dd-073b-45a6-b0a4-0dbb308452e0",
   "metadata": {},
   "outputs": [],
   "source": [
    "def sentiment_score(text):\n",
    "    text = str(text)\n",
    "    sentence_tokens = sent_tokenize(text)\n",
    "    total_score = 0\n",
    "    for sentence_token in sentence_tokens:\n",
    "        sentence_score = 0\n",
    "        no_words_used = 0\n",
    "        word_tokens = TreebankWordTokenizer().tokenize(sentence_token)\n",
    "        pos_tuple = pos_tag(word_tokens)\n",
    "        for word, tag in pos_tuple:\n",
    "            wn_tag = penn_to_wn(tag)\n",
    "            if not wn_tag:\n",
    "                continue\n",
    "            lemma = WordNetLemmatizer().lemmatize(word, pos=wn_tag)\n",
    "            if not lemma:\n",
    "                continue\n",
    "            synset = wn.synsets(lemma, pos=wn_tag)\n",
    "            if not synset:\n",
    "                continue\n",
    "            synset = synset[0] # Select most common synset\n",
    "\n",
    "            # Transform into SentiSynset\n",
    "            swn_synset = swn.senti_synset(synset.name())\n",
    "            sentence_score += swn_synset.pos_score() - swn_synset.neg_score()\n",
    "\n",
    "            # Word was used, add count\n",
    "            no_words_used += 1\n",
    "\n",
    "        # Average sentence score across words in the sentence, and add to total\n",
    "        if no_words_used == 0:\n",
    "            continue\n",
    "        total_score += (sentence_score/no_words_used)\n",
    "        \n",
    "\n",
    "    return total_score"
   ]
  },
  {
   "cell_type": "code",
   "execution_count": null,
   "id": "036ba328-2c54-4a0e-acd1-822041175000",
   "metadata": {},
   "outputs": [],
   "source": []
  },
  {
   "cell_type": "code",
   "execution_count": 98,
   "id": "fd070fd1-a918-4a99-b0ae-b53c48f574b1",
   "metadata": {},
   "outputs": [],
   "source": [
    "df_small = df_small.copy(deep=True)\n",
    "df_small[\"reviewText\"].apply(lambda x: str(x))\n",
    "\n",
    "df_small[\"sentiment_score\"] = df_small[\"reviewText\"].apply(sentiment_score)"
   ]
  },
  {
   "cell_type": "code",
   "execution_count": 99,
   "id": "c0814db3-a8ff-427e-bbca-ce2294ab6e25",
   "metadata": {},
   "outputs": [
    {
     "data": {
      "text/html": [
       "<div>\n",
       "<style scoped>\n",
       "    .dataframe tbody tr th:only-of-type {\n",
       "        vertical-align: middle;\n",
       "    }\n",
       "\n",
       "    .dataframe tbody tr th {\n",
       "        vertical-align: top;\n",
       "    }\n",
       "\n",
       "    .dataframe thead th {\n",
       "        text-align: right;\n",
       "    }\n",
       "</style>\n",
       "<table border=\"1\" class=\"dataframe\">\n",
       "  <thead>\n",
       "    <tr style=\"text-align: right;\">\n",
       "      <th></th>\n",
       "      <th>overall</th>\n",
       "      <th>verified</th>\n",
       "      <th>reviewTime</th>\n",
       "      <th>reviewerID</th>\n",
       "      <th>asin</th>\n",
       "      <th>reviewerName</th>\n",
       "      <th>reviewText</th>\n",
       "      <th>summary</th>\n",
       "      <th>unixReviewTime</th>\n",
       "      <th>vote</th>\n",
       "      <th>style</th>\n",
       "      <th>image</th>\n",
       "      <th>sentiment_score</th>\n",
       "    </tr>\n",
       "  </thead>\n",
       "  <tbody>\n",
       "    <tr>\n",
       "      <th>3000</th>\n",
       "      <td>5.0</td>\n",
       "      <td>True</td>\n",
       "      <td>06 14, 2013</td>\n",
       "      <td>A2OWL0NS33ZQST</td>\n",
       "      <td>B00113T0VA</td>\n",
       "      <td>KAW999</td>\n",
       "      <td>Great game lots of action great story that rel...</td>\n",
       "      <td>Endless hours of entertainment</td>\n",
       "      <td>1371168000</td>\n",
       "      <td>NaN</td>\n",
       "      <td>{'Format:': ' CD-ROM'}</td>\n",
       "      <td>NaN</td>\n",
       "      <td>0.085227</td>\n",
       "    </tr>\n",
       "    <tr>\n",
       "      <th>3001</th>\n",
       "      <td>5.0</td>\n",
       "      <td>False</td>\n",
       "      <td>03 31, 2005</td>\n",
       "      <td>A3O31BQQ0751PI</td>\n",
       "      <td>B00008KTNW</td>\n",
       "      <td>mike</td>\n",
       "      <td>this game has some of the best cutscenes ever....</td>\n",
       "      <td>masterpiece</td>\n",
       "      <td>1112227200</td>\n",
       "      <td>NaN</td>\n",
       "      <td>NaN</td>\n",
       "      <td>NaN</td>\n",
       "      <td>0.181250</td>\n",
       "    </tr>\n",
       "    <tr>\n",
       "      <th>3002</th>\n",
       "      <td>5.0</td>\n",
       "      <td>True</td>\n",
       "      <td>06 12, 2016</td>\n",
       "      <td>A1K619I1XM2BLC</td>\n",
       "      <td>B0166QDJDQ</td>\n",
       "      <td>Scott w.</td>\n",
       "      <td>Loved the game and the price!</td>\n",
       "      <td>Five Stars</td>\n",
       "      <td>1465689600</td>\n",
       "      <td>NaN</td>\n",
       "      <td>{'Format:': ' Video Game'}</td>\n",
       "      <td>NaN</td>\n",
       "      <td>0.166667</td>\n",
       "    </tr>\n",
       "    <tr>\n",
       "      <th>3003</th>\n",
       "      <td>5.0</td>\n",
       "      <td>True</td>\n",
       "      <td>12 10, 2016</td>\n",
       "      <td>ABGUYZ6CWA2V1</td>\n",
       "      <td>B01326JM3Y</td>\n",
       "      <td>blank</td>\n",
       "      <td>Great snes controller substitute very close to...</td>\n",
       "      <td>Five Stars</td>\n",
       "      <td>1481328000</td>\n",
       "      <td>NaN</td>\n",
       "      <td>NaN</td>\n",
       "      <td>NaN</td>\n",
       "      <td>0.000000</td>\n",
       "    </tr>\n",
       "    <tr>\n",
       "      <th>3004</th>\n",
       "      <td>5.0</td>\n",
       "      <td>False</td>\n",
       "      <td>07 16, 2014</td>\n",
       "      <td>A1WTMP0BQ76WTZ</td>\n",
       "      <td>B0014X7SQ6</td>\n",
       "      <td>Noneatallhere</td>\n",
       "      <td>What a great look back into the world of FF7. ...</td>\n",
       "      <td>A PSP must own for any action/role play fans.</td>\n",
       "      <td>1405468800</td>\n",
       "      <td>NaN</td>\n",
       "      <td>{'Edition:': ' Standard'}</td>\n",
       "      <td>NaN</td>\n",
       "      <td>0.395485</td>\n",
       "    </tr>\n",
       "    <tr>\n",
       "      <th>...</th>\n",
       "      <td>...</td>\n",
       "      <td>...</td>\n",
       "      <td>...</td>\n",
       "      <td>...</td>\n",
       "      <td>...</td>\n",
       "      <td>...</td>\n",
       "      <td>...</td>\n",
       "      <td>...</td>\n",
       "      <td>...</td>\n",
       "      <td>...</td>\n",
       "      <td>...</td>\n",
       "      <td>...</td>\n",
       "      <td>...</td>\n",
       "    </tr>\n",
       "    <tr>\n",
       "      <th>4495</th>\n",
       "      <td>5.0</td>\n",
       "      <td>True</td>\n",
       "      <td>12 12, 2015</td>\n",
       "      <td>A30KYKOAYNH1WM</td>\n",
       "      <td>B000XJNTNS</td>\n",
       "      <td>Shannon Solis</td>\n",
       "      <td>Christmas gift</td>\n",
       "      <td>Five Stars</td>\n",
       "      <td>1449878400</td>\n",
       "      <td>NaN</td>\n",
       "      <td>NaN</td>\n",
       "      <td>NaN</td>\n",
       "      <td>0.125000</td>\n",
       "    </tr>\n",
       "    <tr>\n",
       "      <th>4496</th>\n",
       "      <td>5.0</td>\n",
       "      <td>True</td>\n",
       "      <td>12 29, 2015</td>\n",
       "      <td>A1B6EN5Y5DC6CP</td>\n",
       "      <td>B00002STI2</td>\n",
       "      <td>Roy Parr</td>\n",
       "      <td>Great game worth picking up</td>\n",
       "      <td>Five Stars</td>\n",
       "      <td>1451347200</td>\n",
       "      <td>NaN</td>\n",
       "      <td>NaN</td>\n",
       "      <td>NaN</td>\n",
       "      <td>0.000000</td>\n",
       "    </tr>\n",
       "    <tr>\n",
       "      <th>4497</th>\n",
       "      <td>5.0</td>\n",
       "      <td>True</td>\n",
       "      <td>01 9, 2017</td>\n",
       "      <td>A2JCY15Z85WOLQ</td>\n",
       "      <td>B00W8FYFBA</td>\n",
       "      <td>YYK</td>\n",
       "      <td>NaN</td>\n",
       "      <td>Five Stars</td>\n",
       "      <td>1483920000</td>\n",
       "      <td>NaN</td>\n",
       "      <td>{'Format:': ' Video Game'}</td>\n",
       "      <td>NaN</td>\n",
       "      <td>0.000000</td>\n",
       "    </tr>\n",
       "    <tr>\n",
       "      <th>4498</th>\n",
       "      <td>5.0</td>\n",
       "      <td>True</td>\n",
       "      <td>07 9, 2015</td>\n",
       "      <td>A1E5UBXNO5AVF6</td>\n",
       "      <td>B00O9JLBOC</td>\n",
       "      <td>AKA</td>\n",
       "      <td>Awesome deal, came in perfect condition for my...</td>\n",
       "      <td>Great deal</td>\n",
       "      <td>1436400000</td>\n",
       "      <td>NaN</td>\n",
       "      <td>NaN</td>\n",
       "      <td>NaN</td>\n",
       "      <td>0.477273</td>\n",
       "    </tr>\n",
       "    <tr>\n",
       "      <th>4499</th>\n",
       "      <td>5.0</td>\n",
       "      <td>True</td>\n",
       "      <td>01 20, 2018</td>\n",
       "      <td>A3V1RH9YLCC2I</td>\n",
       "      <td>B0065NP6NC</td>\n",
       "      <td>ForeverCursedLucifer</td>\n",
       "      <td>My nostalgia when I played on a personal compu...</td>\n",
       "      <td>You and Lady Luck. Karma is watching.</td>\n",
       "      <td>1516406400</td>\n",
       "      <td>NaN</td>\n",
       "      <td>{'Format:': ' Video Game'}</td>\n",
       "      <td>NaN</td>\n",
       "      <td>0.154960</td>\n",
       "    </tr>\n",
       "  </tbody>\n",
       "</table>\n",
       "<p>1500 rows × 13 columns</p>\n",
       "</div>"
      ],
      "text/plain": [
       "      overall  verified   reviewTime      reviewerID        asin  \\\n",
       "3000      5.0      True  06 14, 2013  A2OWL0NS33ZQST  B00113T0VA   \n",
       "3001      5.0     False  03 31, 2005  A3O31BQQ0751PI  B00008KTNW   \n",
       "3002      5.0      True  06 12, 2016  A1K619I1XM2BLC  B0166QDJDQ   \n",
       "3003      5.0      True  12 10, 2016   ABGUYZ6CWA2V1  B01326JM3Y   \n",
       "3004      5.0     False  07 16, 2014  A1WTMP0BQ76WTZ  B0014X7SQ6   \n",
       "...       ...       ...          ...             ...         ...   \n",
       "4495      5.0      True  12 12, 2015  A30KYKOAYNH1WM  B000XJNTNS   \n",
       "4496      5.0      True  12 29, 2015  A1B6EN5Y5DC6CP  B00002STI2   \n",
       "4497      5.0      True   01 9, 2017  A2JCY15Z85WOLQ  B00W8FYFBA   \n",
       "4498      5.0      True   07 9, 2015  A1E5UBXNO5AVF6  B00O9JLBOC   \n",
       "4499      5.0      True  01 20, 2018   A3V1RH9YLCC2I  B0065NP6NC   \n",
       "\n",
       "              reviewerName                                         reviewText  \\\n",
       "3000                KAW999  Great game lots of action great story that rel...   \n",
       "3001                  mike  this game has some of the best cutscenes ever....   \n",
       "3002              Scott w.                      Loved the game and the price!   \n",
       "3003                 blank  Great snes controller substitute very close to...   \n",
       "3004         Noneatallhere  What a great look back into the world of FF7. ...   \n",
       "...                    ...                                                ...   \n",
       "4495         Shannon Solis                                     Christmas gift   \n",
       "4496              Roy Parr                        Great game worth picking up   \n",
       "4497                   YYK                                                NaN   \n",
       "4498                   AKA  Awesome deal, came in perfect condition for my...   \n",
       "4499  ForeverCursedLucifer  My nostalgia when I played on a personal compu...   \n",
       "\n",
       "                                            summary  unixReviewTime vote  \\\n",
       "3000                 Endless hours of entertainment      1371168000  NaN   \n",
       "3001                                    masterpiece      1112227200  NaN   \n",
       "3002                                     Five Stars      1465689600  NaN   \n",
       "3003                                     Five Stars      1481328000  NaN   \n",
       "3004  A PSP must own for any action/role play fans.      1405468800  NaN   \n",
       "...                                             ...             ...  ...   \n",
       "4495                                     Five Stars      1449878400  NaN   \n",
       "4496                                     Five Stars      1451347200  NaN   \n",
       "4497                                     Five Stars      1483920000  NaN   \n",
       "4498                                     Great deal      1436400000  NaN   \n",
       "4499          You and Lady Luck. Karma is watching.      1516406400  NaN   \n",
       "\n",
       "                           style image  sentiment_score  \n",
       "3000      {'Format:': ' CD-ROM'}   NaN         0.085227  \n",
       "3001                         NaN   NaN         0.181250  \n",
       "3002  {'Format:': ' Video Game'}   NaN         0.166667  \n",
       "3003                         NaN   NaN         0.000000  \n",
       "3004   {'Edition:': ' Standard'}   NaN         0.395485  \n",
       "...                          ...   ...              ...  \n",
       "4495                         NaN   NaN         0.125000  \n",
       "4496                         NaN   NaN         0.000000  \n",
       "4497  {'Format:': ' Video Game'}   NaN         0.000000  \n",
       "4498                         NaN   NaN         0.477273  \n",
       "4499  {'Format:': ' Video Game'}   NaN         0.154960  \n",
       "\n",
       "[1500 rows x 13 columns]"
      ]
     },
     "execution_count": 99,
     "metadata": {},
     "output_type": "execute_result"
    }
   ],
   "source": [
    "df_small[df_small[\"overall\"] > 4]"
   ]
  },
  {
   "cell_type": "code",
   "execution_count": null,
   "id": "2132d01a-b4bf-4492-ae8f-0d97af34c82f",
   "metadata": {},
   "outputs": [],
   "source": []
  }
 ],
 "metadata": {
  "kernelspec": {
   "display_name": "Python 3 (ipykernel)",
   "language": "python",
   "name": "python3"
  },
  "language_info": {
   "codemirror_mode": {
    "name": "ipython",
    "version": 3
   },
   "file_extension": ".py",
   "mimetype": "text/x-python",
   "name": "python",
   "nbconvert_exporter": "python",
   "pygments_lexer": "ipython3",
   "version": "3.12.3"
  }
 },
 "nbformat": 4,
 "nbformat_minor": 5
}
