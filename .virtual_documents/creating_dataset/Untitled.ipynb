import ndjson
import pandas as pd
import numpy as np
import seaborn as sns





with open("../data/Video_Games_5.json") as f:
    data = ndjson.load(f)


reviews_df = pd.DataFrame(data)


reviews_df.head()


reviews_df.info()


reviews_df.shape


reviews_df.describe()


sns.countplot(data = reviews_df, x="overall")





unique_scores = [1.0, 2.0, 3.0, 4.0, 5.0]
large_sample = [1.0, 5.0]
undersamples = []
for score in unique_scores:
    if score in large_sample:
        undersamples.append(reviews_df[reviews_df["overall"] == score].sample(n=1500))
    else:
        undersamples.append(reviews_df[reviews_df["overall"] == score].sample(n=500))
undersampled_reviews = pd.concat(undersamples)


sns.countplot(data = undersampled_reviews, x="overall")





sample_100K_revs = reviews_df.sample(n=100000, random_state=42)
undersampled_reviews.to_csv("../data/small_corpus.csv", index=False)
sample_100K_revs.to_csv("../data/big_corpus.csv", index=False)



